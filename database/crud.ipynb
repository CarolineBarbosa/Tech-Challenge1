{
 "cells": [
  {
   "cell_type": "code",
   "execution_count": 1,
   "metadata": {},
   "outputs": [],
   "source": [
    "from db_connector import *\n",
    "from sqlalchemy import and_"
   ]
  },
  {
   "cell_type": "code",
   "execution_count": 3,
   "metadata": {},
   "outputs": [
    {
     "data": {
      "text/html": [
       "<div>\n",
       "<style scoped>\n",
       "    .dataframe tbody tr th:only-of-type {\n",
       "        vertical-align: middle;\n",
       "    }\n",
       "\n",
       "    .dataframe tbody tr th {\n",
       "        vertical-align: top;\n",
       "    }\n",
       "\n",
       "    .dataframe thead th {\n",
       "        text-align: right;\n",
       "    }\n",
       "</style>\n",
       "<table border=\"1\" class=\"dataframe\">\n",
       "  <thead>\n",
       "    <tr style=\"text-align: right;\">\n",
       "      <th></th>\n",
       "      <th>produto</th>\n",
       "      <th>quantidade</th>\n",
       "      <th>ano</th>\n",
       "      <th>segmento</th>\n",
       "    </tr>\n",
       "  </thead>\n",
       "  <tbody>\n",
       "    <tr>\n",
       "      <th>0</th>\n",
       "      <td>Produto A</td>\n",
       "      <td>100</td>\n",
       "      <td>2023</td>\n",
       "      <td>Produção</td>\n",
       "    </tr>\n",
       "    <tr>\n",
       "      <th>1</th>\n",
       "      <td>Produto B</td>\n",
       "      <td>200</td>\n",
       "      <td>2024</td>\n",
       "      <td>Comercialização</td>\n",
       "    </tr>\n",
       "  </tbody>\n",
       "</table>\n",
       "</div>"
      ],
      "text/plain": [
       "     produto  quantidade   ano         segmento\n",
       "0  Produto A         100  2023         Produção\n",
       "1  Produto B         200  2024  Comercialização"
      ]
     },
     "execution_count": 3,
     "metadata": {},
     "output_type": "execute_result"
    }
   ],
   "source": [
    "# exemplo de dados\n",
    "data_quantidade = {\n",
    "    \"produto\": [\"Produto A\", \"Produto B\"],\n",
    "    \"quantidade\": [100, 200],\n",
    "    \"ano\": [2023, 2024],\n",
    "    \"segmento\": [\"Produção\", \"Comercialização\"]\n",
    "}\n",
    "df_quantidade = pd.DataFrame(data_quantidade)\n",
    "\n",
    "df_quantidade.head(3)\n",
    "\n"
   ]
  },
  {
   "cell_type": "code",
   "execution_count": 4,
   "metadata": {},
   "outputs": [],
   "source": [
    "# Inicializa o banco de dados\n",
    "db_url_sqlite = \"sqlite:///tech_challenge.db\"  \n",
    "db_manager = DatabaseManager(db_url_sqlite)\n",
    "\n",
    "# Cria as tabelas\n",
    "db_manager.create_tables()\n",
    "\n",
    "# Insere dados de exemplo\n",
    "db_manager.insert_from_dataframe(Quantidade, df_quantidade)\n"
   ]
  },
  {
   "cell_type": "code",
   "execution_count": 5,
   "metadata": {},
   "outputs": [
    {
     "data": {
      "text/html": [
       "<div>\n",
       "<style scoped>\n",
       "    .dataframe tbody tr th:only-of-type {\n",
       "        vertical-align: middle;\n",
       "    }\n",
       "\n",
       "    .dataframe tbody tr th {\n",
       "        vertical-align: top;\n",
       "    }\n",
       "\n",
       "    .dataframe thead th {\n",
       "        text-align: right;\n",
       "    }\n",
       "</style>\n",
       "<table border=\"1\" class=\"dataframe\">\n",
       "  <thead>\n",
       "    <tr style=\"text-align: right;\">\n",
       "      <th></th>\n",
       "      <th>id</th>\n",
       "      <th>produto</th>\n",
       "      <th>quantidade</th>\n",
       "      <th>ano</th>\n",
       "      <th>segmento</th>\n",
       "    </tr>\n",
       "  </thead>\n",
       "  <tbody>\n",
       "    <tr>\n",
       "      <th>0</th>\n",
       "      <td>1</td>\n",
       "      <td>Produto A</td>\n",
       "      <td>100</td>\n",
       "      <td>2023</td>\n",
       "      <td>Produção</td>\n",
       "    </tr>\n",
       "    <tr>\n",
       "      <th>1</th>\n",
       "      <td>3</td>\n",
       "      <td>Produto A</td>\n",
       "      <td>100</td>\n",
       "      <td>2023</td>\n",
       "      <td>Produção</td>\n",
       "    </tr>\n",
       "    <tr>\n",
       "      <th>2</th>\n",
       "      <td>5</td>\n",
       "      <td>Produto A</td>\n",
       "      <td>100</td>\n",
       "      <td>2023</td>\n",
       "      <td>Produção</td>\n",
       "    </tr>\n",
       "  </tbody>\n",
       "</table>\n",
       "</div>"
      ],
      "text/plain": [
       "   id    produto  quantidade   ano  segmento\n",
       "0   1  Produto A         100  2023  Produção\n",
       "1   3  Produto A         100  2023  Produção\n",
       "2   5  Produto A         100  2023  Produção"
      ]
     },
     "execution_count": 5,
     "metadata": {},
     "output_type": "execute_result"
    }
   ],
   "source": [
    "# Leitura dos dados\n",
    "filters = [and_(Quantidade.ano == 2023, Quantidade.segmento == \"Produção\")]\n",
    "\n",
    "df_filtered = db_manager.read_to_dataframe(Quantidade, filters=filters)\n",
    "\n",
    "df_filtered"
   ]
  }
 ],
 "metadata": {
  "kernelspec": {
   "display_name": "venv",
   "language": "python",
   "name": "python3"
  },
  "language_info": {
   "codemirror_mode": {
    "name": "ipython",
    "version": 3
   },
   "file_extension": ".py",
   "mimetype": "text/x-python",
   "name": "python",
   "nbconvert_exporter": "python",
   "pygments_lexer": "ipython3",
   "version": "3.9.12"
  }
 },
 "nbformat": 4,
 "nbformat_minor": 2
}
