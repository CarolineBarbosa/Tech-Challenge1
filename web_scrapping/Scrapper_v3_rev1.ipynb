{
  "cells": [
    {
      "cell_type": "code",
      "execution_count": 115,
      "id": "FCUoaZCTwI9o",
      "metadata": {
        "id": "FCUoaZCTwI9o"
      },
      "outputs": [],
      "source": [
        "# Importacao das bilbiotecas necessárias\n",
        "import requests\n",
        "import pandas as pd\n",
        "import sys\n",
        "from bs4 import BeautifulSoup\n"
      ]
    },
    {
      "cell_type": "markdown",
      "id": "fNbLVVAK0syd",
      "metadata": {
        "id": "fNbLVVAK0syd"
      },
      "source": [
        "Parametros de entrada da API\n",
        "- ano\n",
        "- segmento da pesquisa (link)\n",
        "- subsegmento da pesquisa (sublink)\n",
        "\n",
        "\n",
        "Caso um parâmetro não for inforrmado será retornado todas as ocorrências.\n",
        "\n",
        "Exemplo: ano = None, retorna o range de anos de 1970 até 2023\n",
        "\n",
        "subsegmento: \"*\", [] ou [\"?????\"]\n",
        "\n",
        "onde\n",
        "\n",
        "'*' = trazer todos os subsegmentos existentes\n",
        "[] = array vazio quando não há subsegmento para o segmento\n",
        "[\"?????\"] = array com descrição do segmentos desejado. 1 ou + separado por ,\n"
      ]
    },
    {
      "cell_type": "code",
      "execution_count": 116,
      "id": "3uuBtWfI0k23",
      "metadata": {
        "id": "3uuBtWfI0k23"
      },
      "outputs": [],
      "source": [
        "#Parametros de entrada da API\n",
        "\n",
        "ano = 2023 # 2023 ou None\n",
        "segmento = \"Exportação\" #Produção, Processamento, Comercialização, Importação ou Exportação\n",
        "subsegmento = '*'"
      ]
    },
    {
      "cell_type": "markdown",
      "source": [
        "![image.png](data:image/png;base64,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)"
      ],
      "metadata": {
        "id": "RhDEvt3d41Wc"
      },
      "id": "RhDEvt3d41Wc"
    },
    {
      "cell_type": "code",
      "source": [
        "#subsegmento"
      ],
      "metadata": {
        "id": "5ncGiKw1pR-l"
      },
      "id": "5ncGiKw1pR-l",
      "execution_count": 117,
      "outputs": []
    },
    {
      "cell_type": "code",
      "execution_count": 118,
      "id": "d12733b4-3cb5-4bfb-8304-0a81ec20e64f",
      "metadata": {
        "id": "d12733b4-3cb5-4bfb-8304-0a81ec20e64f"
      },
      "outputs": [],
      "source": [
        "#Definicao do dicionario - pré-configuração\n",
        "\n",
        "dc_embrapa = {\n",
        "    'Produção':{\n",
        "        'opcao': \"\",\n",
        "        'subopcao':[],\n",
        "        'categorias':[],\n",
        "        'anos': [y for y in range(1970,2024)],\n",
        "        'table_index':3\n",
        "    },\n",
        "        'Processamento':{\n",
        "        'opcao': \"\",\n",
        "        'subopcao':[],\n",
        "        'categorias':[],\n",
        "        'anos': [y for y in range(1970,2024)],\n",
        "        'table_index':3\n",
        "    },\n",
        "        'Comercialização':{\n",
        "        'opcao': \"\",\n",
        "        'subopcao':[],\n",
        "        'categorias':[],\n",
        "        'anos': [y for y in range(1970,2024)],\n",
        "        'table_index':3\n",
        "    },\n",
        "        'Importação':{\n",
        "        'opcao': \"\",\n",
        "        'subopcao':[],\n",
        "        'categorias':[],\n",
        "        'anos': [y for y in range(1970,2024)],\n",
        "        'table_index':3\n",
        "    },\n",
        "        'Exportação':{\n",
        "        'opcao': \"\",\n",
        "        'subopcao':[],\n",
        "        'categorias':[],\n",
        "        'anos': [y for y in range(1970,2024)],\n",
        "        'table_index':3\n",
        "    }\n",
        "}"
      ]
    },
    {
      "cell_type": "code",
      "source": [
        "# Função para acessar a url com limite de tentativa pré definido de 200\n",
        "\n",
        "def processa_request(url, max_tentativa_acesso = 2000):\n",
        "\n",
        "  i = 1\n",
        "  while i < max_tentativa_acesso:\n",
        "\n",
        "    try:\n",
        "      data = requests.get(url).text\n",
        "\n",
        "      print(\"Acesso OK para url na iteração nº\", i)\n",
        "      i = max_tentativa_acesso + 1\n",
        "    except:\n",
        "      #print(\"Erro listar_subsegmento\")\n",
        "      i += 1\n",
        "  return data"
      ],
      "metadata": {
        "id": "srzLAyDquLY8"
      },
      "id": "srzLAyDquLY8",
      "execution_count": 119,
      "outputs": []
    },
    {
      "cell_type": "code",
      "source": [
        "# Criação do objeto BeautifulSoup da url\n",
        "\n",
        "def cria_objeto_soup(data):\n",
        "\n",
        "  # Criacao do objeto BeautifulSoup\n",
        "  soup = BeautifulSoup(data, 'html.parser')\n",
        "  return soup"
      ],
      "metadata": {
        "id": "HWt0FS0YKKwv"
      },
      "id": "HWt0FS0YKKwv",
      "execution_count": 120,
      "outputs": []
    },
    {
      "cell_type": "code",
      "execution_count": 121,
      "id": "BUn0ECdfGjgX",
      "metadata": {
        "id": "BUn0ECdfGjgX"
      },
      "outputs": [],
      "source": [
        "# Retorna a lista de segmentos (tipos de uva): descrição e suburl relacianada\n",
        "\n",
        "def listar_subgmentos(segmento, url):\n",
        "\n",
        "      print(\"\\nFuncao listar_subsegmento - url:\", url)\n",
        "\n",
        "      data = processa_request(url)\n",
        "\n",
        "      # Criacao do objeto BeautifulSoup\n",
        "      #soup = BeautifulSoup(data, 'html.parser')\n",
        "      soup = cria_objeto_soup(data)\n",
        "\n",
        "      # Identificação dos sublinks do segmento\n",
        "      subopcao_buttons = soup.find_all('button', attrs={'name': 'subopcao'})\n",
        "\n",
        "      #print(\"subopcao_buttons\", subopcao_buttons)\n",
        "\n",
        "      # Nome dos sublinks\n",
        "      subopcao_values = [(button.text.strip()) for button in subopcao_buttons]\n",
        "\n",
        "      #print(\"subopcao_values\", subopcao_values)\n",
        "\n",
        "      # Ref dos sublinks\n",
        "      subopcao_links = [(button['value']) for button in subopcao_buttons]\n",
        "\n",
        "      #print(\"subopcao_links\", subopcao_links)\n",
        "\n",
        "      subopcao_buttons_values = [(button.text.strip(), button['value']) for button in subopcao_buttons]\n",
        "\n",
        "\n",
        "      return subopcao_values, subopcao_links, dict(subopcao_buttons_values)"
      ]
    },
    {
      "cell_type": "code",
      "source": [
        " # Função que realizada a leitura da tabela da página para o ano correspondente\n",
        "\n",
        " def captura_dados(ano):\n",
        "\n",
        "    print(\"\\nFuncao captura_dados\", ano)\n",
        "    # Criacao do objeto BeautifulSoup\n",
        "    #soup2 = BeautifulSoup(data2, 'html.parser')\n",
        "    soup2 = cria_objeto_soup(data2)\n",
        "\n",
        "    # Verificacao tabelas e respectivas classes\n",
        "    print('Classes de cada tabela:')\n",
        "    for table in soup.find_all('table'):\n",
        "        print(table.get('class'))\n",
        "\n",
        "    # Criação de lista com todas as tabelas\n",
        "    tables = soup2.find_all('table')\n",
        "\n",
        "    #  Filtro para tabela alvo\n",
        "    table = soup2.find('table', class_='tb_base tb_dados')\n",
        "\n",
        "    # Localizar todas as tags <th>\n",
        "    th_tags = table.find_all('th')\n",
        "\n",
        "    # Extrair o texto de cada tag <th>\n",
        "    headers = [th.get_text(strip=True) for th in th_tags]\n",
        "\n",
        "    #print(headers)\n",
        "\n",
        "    # >>>> REAVALIAR NECESSIDADE <<<<<<\n",
        "    # Tratamento para deixar nome simples em vez de composto\n",
        "    headers_simples = []\n",
        "    for item in headers:\n",
        "      local = item.find(\" \") #Procurar por espaco\n",
        "      if local == -1:\n",
        "        nome = item\n",
        "      else:\n",
        "        nome = item[:local]\n",
        "\n",
        "      headers_simples.append(nome)\n",
        "\n",
        "    #print(headers_simples)\n",
        "\n",
        "    #Criação de lista final de produto vs items\n",
        "    lista_full = []\n",
        "\n",
        "    # Coleta dos todos\n",
        "    for row in table.tbody.find_all('tr'):\n",
        "        # Busca de dados para todas as colunas\n",
        "        columns = row.find_all('td')\n",
        "\n",
        "        if(columns != []):\n",
        "          if len(headers_simples) == 2:\n",
        "            coluna1 = columns[0].text.strip()\n",
        "            coluna2 = columns[1].text.strip()\n",
        "\n",
        "            list_items = [coluna1, coluna2]\n",
        "          else:\n",
        "            coluna1 = columns[0].text.strip()\n",
        "            coluna2 = columns[1].text.strip()\n",
        "            coluna3 = columns[2].text.strip()\n",
        "\n",
        "            list_items = [coluna1, coluna2, coluna3]\n",
        "\n",
        "            #Append na lista final de itens\n",
        "\n",
        "          lista_full.append(list_items)\n",
        "\n",
        "\n",
        "    print(lista_full)\n",
        "    print(type(lista_full))\n",
        "\n",
        "    # Definição do DataFrame\n",
        "    df = pd.DataFrame(lista_full, columns=[headers])\n",
        "    df['LinhaNegocio'] = segmento\n",
        "    #print(subsegmento.text.strip())\n",
        "    #print(\"erro aqui descricao\", descricao)\n",
        "    if len(descricao):\n",
        "      *row, = descricao\n",
        "      subseg, = row\n",
        "      df['SubLinhaNegocio'] = subseg\n",
        "    else:\n",
        "      df['SubLinhaNegocio'] = None\n",
        "\n",
        "    df['Ano'] = ano\n",
        "\n",
        "\n",
        "    #print(\"--------\")\n",
        "    #print(\"----df---\\n\",df)\n",
        "    return df"
      ],
      "metadata": {
        "id": "Pe24-_4IIs0q"
      },
      "id": "Pe24-_4IIs0q",
      "execution_count": 122,
      "outputs": []
    },
    {
      "cell_type": "markdown",
      "id": "uOOCdH1frbKg",
      "metadata": {
        "id": "uOOCdH1frbKg"
      },
      "source": [
        "**Passo 1a:** Acesso da home page para recuperação das sub-páginas"
      ]
    },
    {
      "cell_type": "code",
      "execution_count": 123,
      "id": "3f8qfgBnlqDG",
      "metadata": {
        "id": "3f8qfgBnlqDG"
      },
      "outputs": [],
      "source": [
        "url = f\"http://vitibrasil.cnpuv.embrapa.br/\""
      ]
    },
    {
      "cell_type": "code",
      "source": [
        "data = processa_request(url)"
      ],
      "metadata": {
        "colab": {
          "base_uri": "https://localhost:8080/"
        },
        "id": "azofmC9pzqwt",
        "outputId": "207ab592-6943-4b99-dc71-f7803585bc02"
      },
      "id": "azofmC9pzqwt",
      "execution_count": 124,
      "outputs": [
        {
          "output_type": "stream",
          "name": "stdout",
          "text": [
            "Acesso OK para url na iteração nº 15\n"
          ]
        }
      ]
    },
    {
      "cell_type": "code",
      "execution_count": 125,
      "id": "cwmC0roNwVr8",
      "metadata": {
        "id": "cwmC0roNwVr8"
      },
      "outputs": [],
      "source": [
        "# Criacao do objeto BeautifulSoup\n",
        "soup = cria_objeto_soup(data)"
      ]
    },
    {
      "cell_type": "code",
      "execution_count": 126,
      "id": "Ssp3VDqJmOBh",
      "metadata": {
        "id": "Ssp3VDqJmOBh"
      },
      "outputs": [],
      "source": [
        "# Lista dos botões opções da página\n",
        "opcao_buttons = soup.find_all('button', attrs={'name': 'opcao'})"
      ]
    },
    {
      "cell_type": "code",
      "execution_count": 127,
      "id": "Q1BoPqL5mYPF",
      "metadata": {
        "colab": {
          "base_uri": "https://localhost:8080/"
        },
        "id": "Q1BoPqL5mYPF",
        "outputId": "3b0e1138-00ef-4a1c-c238-ca54ce74b6bb"
      },
      "outputs": [
        {
          "output_type": "execute_result",
          "data": {
            "text/plain": [
              "[<button class=\"btn_opt\" name=\"opcao\" type=\"submit\" value=\"opt_01\">Apresentação</button>,\n",
              " <button class=\"btn_opt\" name=\"opcao\" type=\"submit\" value=\"opt_02\">Produção</button>,\n",
              " <button class=\"btn_opt\" name=\"opcao\" type=\"submit\" value=\"opt_03\">Processamento</button>,\n",
              " <button class=\"btn_opt\" name=\"opcao\" type=\"submit\" value=\"opt_04\">Comercialização</button>,\n",
              " <button class=\"btn_opt\" name=\"opcao\" type=\"submit\" value=\"opt_05\">Importação</button>,\n",
              " <button class=\"btn_opt\" name=\"opcao\" type=\"submit\" value=\"opt_06\">Exportação</button>,\n",
              " <button class=\"btn_opt\" name=\"opcao\" type=\"submit\" value=\"opt_07\">Publicação</button>]"
            ]
          },
          "metadata": {},
          "execution_count": 127
        }
      ],
      "source": [
        "opcao_buttons"
      ]
    },
    {
      "cell_type": "code",
      "execution_count": 128,
      "id": "OAyqhd6-phHr",
      "metadata": {
        "id": "OAyqhd6-phHr"
      },
      "outputs": [],
      "source": [
        "# Dicionario das sub-páginas e respectivos links\n",
        "opcao_buttons_values = [(button.text.strip(), button['value']) for button in opcao_buttons]"
      ]
    },
    {
      "cell_type": "code",
      "execution_count": 129,
      "id": "-NQrwwLLpxhr",
      "metadata": {
        "id": "-NQrwwLLpxhr",
        "colab": {
          "base_uri": "https://localhost:8080/"
        },
        "outputId": "af3474fd-1936-4cbd-8fba-e27215fd4573"
      },
      "outputs": [
        {
          "output_type": "execute_result",
          "data": {
            "text/plain": [
              "[('Apresentação', 'opt_01'),\n",
              " ('Produção', 'opt_02'),\n",
              " ('Processamento', 'opt_03'),\n",
              " ('Comercialização', 'opt_04'),\n",
              " ('Importação', 'opt_05'),\n",
              " ('Exportação', 'opt_06'),\n",
              " ('Publicação', 'opt_07')]"
            ]
          },
          "metadata": {},
          "execution_count": 129
        }
      ],
      "source": [
        "opcao_buttons_values"
      ]
    },
    {
      "cell_type": "code",
      "execution_count": 130,
      "id": "LbxqaNRdtHJp",
      "metadata": {
        "id": "LbxqaNRdtHJp"
      },
      "outputs": [],
      "source": [
        "# Dicionario das sub-páginas e respectivos links\n",
        "result_dict_paginas = dict(opcao_buttons_values)"
      ]
    },
    {
      "cell_type": "code",
      "execution_count": 131,
      "id": "ZZiT_O2AtKOU",
      "metadata": {
        "colab": {
          "base_uri": "https://localhost:8080/"
        },
        "id": "ZZiT_O2AtKOU",
        "outputId": "5032cfc4-db94-4801-8b93-5238aeeaca05"
      },
      "outputs": [
        {
          "output_type": "execute_result",
          "data": {
            "text/plain": [
              "{'Apresentação': 'opt_01',\n",
              " 'Produção': 'opt_02',\n",
              " 'Processamento': 'opt_03',\n",
              " 'Comercialização': 'opt_04',\n",
              " 'Importação': 'opt_05',\n",
              " 'Exportação': 'opt_06',\n",
              " 'Publicação': 'opt_07'}"
            ]
          },
          "metadata": {},
          "execution_count": 131
        }
      ],
      "source": [
        "result_dict_paginas"
      ]
    },
    {
      "cell_type": "markdown",
      "id": "O6XkIkGoshtT",
      "metadata": {
        "id": "O6XkIkGoshtT"
      },
      "source": [
        "**Passo 1b:** Atualização do dicionario com as referencias dos segmentos disponiveis na url da homepage\n",
        "\n",
        "\n",
        "![image.png](data:image/png;base64,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)\n",
        "\n"
      ]
    },
    {
      "cell_type": "markdown",
      "id": "HAzWemmr37Zl",
      "metadata": {
        "id": "HAzWemmr37Zl"
      },
      "source": [
        "Objetivo: Atualizar no dicionario o campo Opcao para cada segmento disponivel.\n",
        "\n",
        "Atenção: Os segmentos Apresentação e Publicação não existem no dicionário porque não tem informações do \"Banco de dados de uva, vinho e derivados\""
      ]
    },
    {
      "cell_type": "code",
      "execution_count": 132,
      "id": "3bUq2r-Xu09V",
      "metadata": {
        "colab": {
          "base_uri": "https://localhost:8080/"
        },
        "id": "3bUq2r-Xu09V",
        "outputId": "08baf592-97f6-4867-a1b7-2ce3686b3178"
      },
      "outputs": [
        {
          "output_type": "stream",
          "name": "stdout",
          "text": [
            "A chave 'Apresentação' não existe no dicionário.\n",
            "A chave 'Publicação' não existe no dicionário.\n"
          ]
        }
      ],
      "source": [
        "for chave, valor in result_dict_paginas.items():\n",
        "  try:\n",
        "    dc_embrapa[chave]['opcao'] = valor\n",
        "    #print(valor)\n",
        "  except KeyError:\n",
        "    print(f\"A chave '{chave}' não existe no dicionário.\")\n",
        "  #print(chave, valor)"
      ]
    },
    {
      "cell_type": "markdown",
      "id": "Hpro5hvNs11a",
      "metadata": {
        "id": "Hpro5hvNs11a"
      },
      "source": [
        "**Passo 2:** Processamento inicial  página que deseja recuperar os dados (campo segmento informado anteriormente)"
      ]
    },
    {
      "cell_type": "code",
      "execution_count": 133,
      "id": "rbvBuzV-A6wo",
      "metadata": {
        "colab": {
          "base_uri": "https://localhost:8080/"
        },
        "id": "rbvBuzV-A6wo",
        "outputId": "455254f3-9189-4c32-d010-e6341a20e291"
      },
      "outputs": [
        {
          "output_type": "stream",
          "name": "stdout",
          "text": [
            "Segmento selecionado: opt_06\n"
          ]
        }
      ],
      "source": [
        "try:\n",
        "  opcao= dc_embrapa[segmento]['opcao']\n",
        "  print(\"Segmento selecionado:\", opcao)\n",
        "except KeyError:\n",
        "  print(f\"A chave '{segmento}' não existe no dicionário.\")"
      ]
    },
    {
      "cell_type": "code",
      "execution_count": 134,
      "id": "FNWW26aq60qn",
      "metadata": {
        "colab": {
          "base_uri": "https://localhost:8080/"
        },
        "id": "FNWW26aq60qn",
        "outputId": "ce395c9c-4adc-4b14-e3d9-d12cf89e2ace"
      },
      "outputs": [
        {
          "output_type": "stream",
          "name": "stdout",
          "text": [
            "Lista de segmentos para processamento: ['Exportação']\n"
          ]
        }
      ],
      "source": [
        "# Lista para identificar se pesquisa é para apenas um segmento ou todos\n",
        "\n",
        "if segmento != []:\n",
        "  lista_segmentos = [segmento]\n",
        "else:\n",
        "  lista_segmentos = dc_embrapa.keys()\n",
        "\n",
        "print(\"Lista de segmentos para processamento:\", lista_segmentos)\n"
      ]
    },
    {
      "cell_type": "markdown",
      "source": [
        "Obs: Embora implantado essa validação, a lógica de obrigar a necessidade de informar apenas 1 segmento de consulta foi mantido no inicio do notebook."
      ],
      "metadata": {
        "id": "1tyXQeUkxaHL"
      },
      "id": "1tyXQeUkxaHL"
    },
    {
      "cell_type": "code",
      "source": [
        "try:\n",
        "  print(f\"Para o segmento {segmento} o sublink associado é {dc_embrapa[segmento]['opcao']}\")\n",
        "except KeyError:\n",
        "  print(f\"A chave '{segmento}' não existe no dicionário.\")\n",
        "  #força interrupção para notebook não avançar na próxima celula\n",
        "  sys.exit(1)"
      ],
      "metadata": {
        "colab": {
          "base_uri": "https://localhost:8080/"
        },
        "id": "1fBCmqDjaQyP",
        "outputId": "e77677d3-0a0d-4b55-d792-5d43d9f2507b"
      },
      "id": "1fBCmqDjaQyP",
      "execution_count": 135,
      "outputs": [
        {
          "output_type": "stream",
          "name": "stdout",
          "text": [
            "Para o segmento Exportação o sublink associado é opt_06\n"
          ]
        }
      ]
    },
    {
      "cell_type": "markdown",
      "id": "bieKiELJuV0y",
      "metadata": {
        "id": "bieKiELJuV0y"
      },
      "source": [
        "**Passo 3:** Atualizar dinamicamente categorias e subopcao"
      ]
    },
    {
      "cell_type": "code",
      "source": [
        "url = f\"http://vitibrasil.cnpuv.embrapa.br/index.php?opcao={dc_embrapa[segmento]['opcao']}\""
      ],
      "metadata": {
        "id": "Qi8WLa0AanTk"
      },
      "id": "Qi8WLa0AanTk",
      "execution_count": 136,
      "outputs": []
    },
    {
      "cell_type": "code",
      "execution_count": 137,
      "id": "WWO5cWTTWeK7",
      "metadata": {
        "colab": {
          "base_uri": "https://localhost:8080/"
        },
        "id": "WWO5cWTTWeK7",
        "outputId": "2fbd95db-e8b7-4fe8-f9fa-9468b43e6d2f"
      },
      "outputs": [
        {
          "output_type": "stream",
          "name": "stdout",
          "text": [
            "\n",
            "Funcao listar_subsegmento - url: http://vitibrasil.cnpuv.embrapa.br/index.php?opcao=opt_06\n",
            "Acesso OK para url na iteração nº 37\n"
          ]
        }
      ],
      "source": [
        "# Chamada da função Listar_segmentos\n",
        "\n",
        "lista_categorias, lista_links_categorias, result_dict_subpag  = listar_subgmentos(segmento, url)"
      ]
    },
    {
      "cell_type": "code",
      "execution_count": 138,
      "id": "wb0ZjuBXWg3N",
      "metadata": {
        "colab": {
          "base_uri": "https://localhost:8080/"
        },
        "id": "wb0ZjuBXWg3N",
        "outputId": "4695f1b4-2f2b-4573-8653-930816723d1e"
      },
      "outputs": [
        {
          "output_type": "execute_result",
          "data": {
            "text/plain": [
              "{'Vinhos de mesa': 'subopt_01',\n",
              " 'Espumantes': 'subopt_02',\n",
              " 'Uvas frescas': 'subopt_03',\n",
              " 'Suco de uva': 'subopt_04'}"
            ]
          },
          "metadata": {},
          "execution_count": 138
        }
      ],
      "source": [
        "result_dict_subpag"
      ]
    },
    {
      "cell_type": "code",
      "execution_count": 139,
      "id": "WZP6si_ClPGM",
      "metadata": {
        "colab": {
          "base_uri": "https://localhost:8080/"
        },
        "id": "WZP6si_ClPGM",
        "outputId": "8b7de9e2-58df-41de-8fcb-130f0dcca856"
      },
      "outputs": [
        {
          "output_type": "execute_result",
          "data": {
            "text/plain": [
              "['Vinhos de mesa', 'Espumantes', 'Uvas frescas', 'Suco de uva']"
            ]
          },
          "metadata": {},
          "execution_count": 139
        }
      ],
      "source": [
        "lista_categorias"
      ]
    },
    {
      "cell_type": "code",
      "execution_count": 140,
      "id": "azEzvMwFnJw4",
      "metadata": {
        "colab": {
          "base_uri": "https://localhost:8080/"
        },
        "id": "azEzvMwFnJw4",
        "outputId": "8178ee62-c56e-48ff-8402-98aa38abd577"
      },
      "outputs": [
        {
          "output_type": "execute_result",
          "data": {
            "text/plain": [
              "['subopt_01', 'subopt_02', 'subopt_03', 'subopt_04']"
            ]
          },
          "metadata": {},
          "execution_count": 140
        }
      ],
      "source": [
        "lista_links_categorias"
      ]
    },
    {
      "cell_type": "code",
      "source": [
        "segmento\n"
      ],
      "metadata": {
        "colab": {
          "base_uri": "https://localhost:8080/",
          "height": 35
        },
        "id": "s8HXf3vbBXcu",
        "outputId": "bfeab7d6-e5a8-404c-c606-77e316228a9b"
      },
      "id": "s8HXf3vbBXcu",
      "execution_count": 141,
      "outputs": [
        {
          "output_type": "execute_result",
          "data": {
            "text/plain": [
              "'Exportação'"
            ],
            "application/vnd.google.colaboratory.intrinsic+json": {
              "type": "string"
            }
          },
          "metadata": {},
          "execution_count": 141
        }
      ]
    },
    {
      "cell_type": "code",
      "execution_count": 142,
      "id": "oaOaEb4m8zte",
      "metadata": {
        "id": "oaOaEb4m8zte",
        "colab": {
          "base_uri": "https://localhost:8080/"
        },
        "outputId": "1088d43b-14fe-48b3-80de-32b2e1dd4182"
      },
      "outputs": [
        {
          "output_type": "stream",
          "name": "stdout",
          "text": [
            "[]\n",
            "[]\n"
          ]
        }
      ],
      "source": [
        "# Antes atualização do dicionario\n",
        "print(dc_embrapa[segmento]['categorias'])\n",
        "print(dc_embrapa[segmento]['subopcao'])"
      ]
    },
    {
      "cell_type": "code",
      "execution_count": 143,
      "id": "0I6RzIzJwtK9",
      "metadata": {
        "id": "0I6RzIzJwtK9"
      },
      "outputs": [],
      "source": [
        "for nome_segmento in lista_segmentos:\n",
        "\n",
        "  dc_embrapa[nome_segmento]['categorias'] = lista_categorias\n",
        "  dc_embrapa[nome_segmento]['subopcao'] = lista_links_categorias"
      ]
    },
    {
      "cell_type": "code",
      "source": [
        "# Após atualização do dicionário\n",
        "print(dc_embrapa[segmento]['categorias'])\n",
        "print(dc_embrapa[segmento]['subopcao'])"
      ],
      "metadata": {
        "colab": {
          "base_uri": "https://localhost:8080/"
        },
        "id": "RwFFSbLrR9MK",
        "outputId": "42b7fbe1-5d33-4795-e75f-00dde1365e76"
      },
      "id": "RwFFSbLrR9MK",
      "execution_count": 144,
      "outputs": [
        {
          "output_type": "stream",
          "name": "stdout",
          "text": [
            "['Vinhos de mesa', 'Espumantes', 'Uvas frescas', 'Suco de uva']\n",
            "['subopt_01', 'subopt_02', 'subopt_03', 'subopt_04']\n"
          ]
        }
      ]
    },
    {
      "cell_type": "code",
      "source": [],
      "metadata": {
        "id": "Ztg-VPeIr8GR"
      },
      "id": "Ztg-VPeIr8GR",
      "execution_count": 144,
      "outputs": []
    },
    {
      "cell_type": "markdown",
      "id": "d5beDYaDuDl4",
      "metadata": {
        "id": "d5beDYaDuDl4"
      },
      "source": [
        "**Passo 4:** Consiste o subsegmento quando informado"
      ]
    },
    {
      "cell_type": "code",
      "source": [
        "print(subsegmento)"
      ],
      "metadata": {
        "colab": {
          "base_uri": "https://localhost:8080/"
        },
        "id": "s90t4TnBdrnQ",
        "outputId": "aea3abec-949d-47b5-cb4d-2092a36b0675"
      },
      "id": "s90t4TnBdrnQ",
      "execution_count": 145,
      "outputs": [
        {
          "output_type": "stream",
          "name": "stdout",
          "text": [
            "*\n"
          ]
        }
      ]
    },
    {
      "cell_type": "code",
      "source": [
        "subsegmento\n"
      ],
      "metadata": {
        "colab": {
          "base_uri": "https://localhost:8080/",
          "height": 35
        },
        "id": "wC0DpX_1qNrU",
        "outputId": "e59bfbaa-86ed-4235-a2ef-a64bd2fa6569"
      },
      "id": "wC0DpX_1qNrU",
      "execution_count": 146,
      "outputs": [
        {
          "output_type": "execute_result",
          "data": {
            "text/plain": [
              "'*'"
            ],
            "application/vnd.google.colaboratory.intrinsic+json": {
              "type": "string"
            }
          },
          "metadata": {},
          "execution_count": 146
        }
      ]
    },
    {
      "cell_type": "code",
      "source": [
        "#aqui"
      ],
      "metadata": {
        "id": "08al_A59rAAc"
      },
      "id": "08al_A59rAAc",
      "execution_count": 147,
      "outputs": []
    },
    {
      "cell_type": "code",
      "source": [
        "if not dc_embrapa[segmento]['categorias'] == []:\n",
        "  try:\n",
        "    dc_embrapa[segmento]['categorias'].index(subsegmento[0])\n",
        "  except:\n",
        "    if subsegmento != '*' :\n",
        "      print(subsegmento, \"é um valor inválido para as opcoes disponiveis em\", segmento)\n",
        "      #força interrupção para notebook não avançar na próxima celula\n",
        "      sys.exit(1)"
      ],
      "metadata": {
        "id": "d8h1XrEVl-IC"
      },
      "id": "d8h1XrEVl-IC",
      "execution_count": 148,
      "outputs": []
    },
    {
      "cell_type": "code",
      "source": [
        "# Se subsegmento não for informado e segmento tem subsegmento, retornar toda a lista de subsegmentos para pesquisa\n",
        "if not subsegmento == dc_embrapa[segmento]['subopcao']:\n",
        "  if subsegmento == '*':\n",
        "    subsegmento = lista_categorias"
      ],
      "metadata": {
        "id": "1_TF8_ALd_dA"
      },
      "id": "1_TF8_ALd_dA",
      "execution_count": 149,
      "outputs": []
    },
    {
      "cell_type": "code",
      "source": [
        "print(subsegmento)"
      ],
      "metadata": {
        "colab": {
          "base_uri": "https://localhost:8080/"
        },
        "id": "Uq3d8owkL77r",
        "outputId": "b33196f3-dc76-41b8-be64-59eb96641780"
      },
      "id": "Uq3d8owkL77r",
      "execution_count": 150,
      "outputs": [
        {
          "output_type": "stream",
          "name": "stdout",
          "text": [
            "['Vinhos de mesa', 'Espumantes', 'Uvas frescas', 'Suco de uva']\n"
          ]
        }
      ]
    },
    {
      "cell_type": "code",
      "execution_count": 151,
      "id": "Fn_IF5QPuedC",
      "metadata": {
        "colab": {
          "base_uri": "https://localhost:8080/",
          "height": 53
        },
        "id": "Fn_IF5QPuedC",
        "outputId": "07bcb692-5e5f-4069-efc9-c36cdd6e89fd"
      },
      "outputs": [
        {
          "output_type": "execute_result",
          "data": {
            "text/plain": [
              "'try:\\n  index_categ = dc_embrapa[segmento][\\'categorias\\'].index(subsegmento[0])\\n  dc_embrapa[segmento][\\'subopcao\\'][index_categ]\\n  print(dc_embrapa[segmento][\\'subopcao\\'][index_categ])\\nexcept:\\n  print(\"Erro!!!!\")'"
            ],
            "application/vnd.google.colaboratory.intrinsic+json": {
              "type": "string"
            }
          },
          "metadata": {},
          "execution_count": 151
        }
      ],
      "source": [
        "'''try:\n",
        "  index_categ = dc_embrapa[segmento]['categorias'].index(subsegmento[0])\n",
        "  dc_embrapa[segmento]['subopcao'][index_categ]\n",
        "  print(dc_embrapa[segmento]['subopcao'][index_categ])\n",
        "except:\n",
        "  print(\"Erro!!!!\")'''"
      ]
    },
    {
      "cell_type": "markdown",
      "id": "sB7d3BkY_1D4",
      "metadata": {
        "id": "sB7d3BkY_1D4"
      },
      "source": [
        "**Passo 5 :** Ler tabela da página"
      ]
    },
    {
      "cell_type": "code",
      "source": [
        "#Criação do Dataframe que irá acumular todas as ocorrências das tabelas para cada ano de pesquisa\n",
        "df_final = pd.DataFrame()"
      ],
      "metadata": {
        "id": "deEADlWN1J2S"
      },
      "id": "deEADlWN1J2S",
      "execution_count": 152,
      "outputs": []
    },
    {
      "cell_type": "code",
      "execution_count": 153,
      "id": "9Y6zP4T77xzs",
      "metadata": {
        "colab": {
          "base_uri": "https://localhost:8080/"
        },
        "id": "9Y6zP4T77xzs",
        "outputId": "ce038996-620c-4309-82c6-8e2b759af74c"
      },
      "outputs": [
        {
          "output_type": "stream",
          "name": "stdout",
          "text": [
            "Exportação\n",
            "subopcao: ['subopt_01', 'subopt_02', 'subopt_03', 'subopt_04']\n",
            "categorias: ['Vinhos de mesa', 'Espumantes', 'Uvas frescas', 'Suco de uva']\n",
            "subgmento-informado: ['Vinhos de mesa', 'Espumantes', 'Uvas frescas', 'Suco de uva']\n",
            "Lista de anos [2023]\n",
            "Url Ano  2023 http://vitibrasil.cnpuv.embrapa.br/index.php?ano=2023&opcao=opt_06&subopcao=subopt_01\n",
            "Acesso OK para url na iteração nº 1\n",
            "\n",
            "Funcao captura_dados 2023\n",
            "Classes de cada tabela:\n",
            "['tb_layout']\n",
            "['tb_base']\n",
            "['tb_layout']\n",
            "['tb_layout', 'no_print']\n",
            "['tb_base']\n",
            "['tb_base', 'tb_link', 'no_print']\n",
            "['tb_base']\n",
            "['tb_base', 'tb_footer']\n",
            "[['Afeganistão', '-', '-'], ['África do Sul', '117', '698'], ['Alemanha, República Democrática', '4.806', '31.853'], ['Angola', '-', '-'], ['Anguilla', '-', '-'], ['Antígua e Barbuda', '383', '1.848'], ['Antilhas Holandesas', '-', '-'], ['Arábia Saudita', '124', '142'], ['Argentina', '4.545', '36.133'], ['Aruba', '-', '-'], ['Austrália', '2.485', '13.565'], ['Áustria', '-', '-'], ['Bahamas', '1.348', '7.402'], ['Bangladesh', '-', '-'], ['Barbados', '58', '303'], ['Barein', '283', '1.684'], ['Bélgica', '95', '683'], ['Belice', '-', '-'], ['Benin', '-', '-'], ['Bermudas', '16', '153'], ['Bolívia', '21.926', '36.950'], ['Bósnia-Herzegovina', '-', '-'], ['Brasil', '-', '-'], ['Bulgária', '-', '-'], ['Cabo Verde', '-', '-'], ['Camarões', '-', '-'], ['Canadá', '11.539', '42.179'], ['Catar', '5', '18'], ['Cayman, Ilhas', '438', '2.632'], ['Chile', '9', '63'], ['China', '73.917', '183.096'], ['Chipre', '524', '2.995'], ['Cingapura', '-', '-'], ['Cocos (Keeling), Ilhas', '-', '-'], ['Colômbia', '450', '1.259'], ['Comores', '-', '-'], ['Congo', '17.100', '26.600'], ['Coreia, Republica Sul', '25', '171'], ['Costa do Marfim', '-', '-'], ['Costa Rica', '-', '-'], ['Croácia', '-', '-'], ['Cuba', '-', '-'], ['Curaçao', '25.135', '40.807'], ['Dinamarca', '1.734', '15.261'], ['Dominica', '-', '-'], ['El Salvador', '-', '-'], ['Emirados Arabes Unidos', '1.417', '6.762'], ['Equador', '2.790', '4.392'], ['Eslovaca, Republica', '-', '-'], ['Espanha', '180', '4.171'], ['Estados Unidos', '229.839', '429.091'], ['Estônia', '-', '-'], ['Filipinas', '94', '334'], ['Finlândia', '5', '11'], ['França', '2.265', '14.722'], ['Gana', '7.237', '29.473'], ['Gibraltar', '-', '-'], ['Granada', '-', '-'], ['Grécia', '1.294', '3.214'], ['Guatemala', '2.053', '3.758'], ['Guiana', '33.651', '88.715'], ['Guiana Francesa', '-', '-'], ['Guine Bissau', '-', '-'], ['Guine Equatorial', '-', '-'], ['Haiti', '559.645', '871.661'], ['Honduras', '-', '-'], ['Hong Kong', '16.255', '71.025'], ['Hungria', '-', '-'], ['Ilha de Man', '1.428', '4.533'], ['Ilhas Virgens', '-', '-'], ['India', '60', '170'], ['Indonésia', '9', '30'], ['Irã', '-', '-'], ['Iraque', '-', '-'], ['Irlanda', '150', '377'], ['Itália', '2.922', '27.665'], ['Jamaica', '-', '-'], ['Japão', '22.942', '57.780'], ['Jordânia', '-', '-'], ['Letônia', '8', '8'], ['Líbano', '-', '-'], ['Libéria', '39.784', '42.463'], ['Luxemburgo', '581', '7.048'], ['Macau', '7', '6'], ['Malásia', '-', '-'], ['Malavi', '3.660', '6.252'], ['Malta', '6.561', '24.199'], ['Marshall, Ilhas', '7.417', '31.691'], ['Martinica', '9', '31'], ['Mauritânia', '-', '-'], ['México', '3', '19'], ['Moçambique', '-', '-'], ['Montenegro', '-', '-'], ['Namíbia', '-', '-'], ['Nicarágua', '-', '-'], ['Nigéria', '10.800', '16.464'], ['Noruega', '861', '4.243'], ['Nova Caledônia', '-', '-'], ['Nova Zelândia', '338', '7.177'], ['Omã', '-', '-'], ['Países Baixos', '2.244', '4.958'], ['Palau', '45', '143'], ['Panamá', '14.785', '68.173'], ['Paraguai', '3.780.378', '5.517.263'], ['Peru', '47.277', '84.282'], ['Pitcairn', '11', '22'], ['Polônia', '298', '590'], ['Porto Rico', '-', '-'], ['Portugal', '13.742', '46.311'], ['Quênia', '-', '-'], ['Reino Unido', '11.326', '84.547'], ['República Dominicana', '-', '-'], ['Rússia', '-', '-'], ['São Cristóvão e Névis', '16', '31'], ['São Tomé e Príncipe', '-', '-'], ['São Vicente e Granadinas', '39', '139'], ['Senegal', '-', '-'], ['Serra Leoa', '23.200', '38.548'], ['Singapura', '3.941', '19.781'], ['Suazilândia', '-', '-'], ['Suécia', '-', '-'], ['Suíça', '2.500', '28.763'], ['Suriname', '3.105', '5.235'], ['Tailândia', '189', '1.387'], ['Taiwan (Formosa)', '4.208', '19.998'], ['Tanzânia', '-', '-'], ['Tcheca, República', '405', '3.348'], ['Togo', '14.550', '25.235'], ['Toquelau', '3', '10'], ['Trinidade Tobago', '-', '-'], ['Tunísia', '-', '-'], ['Turquia', '28.104', '95.421'], ['Tuvalu', '-', '-'], ['Uruguai', '326.093', '454.271'], ['Vanuatu', '-', '-'], ['Venezuela', '141.030', '220.512'], ['Vietnã', '72', '128']]\n",
            "<class 'list'>\n",
            "Url Ano  2023 http://vitibrasil.cnpuv.embrapa.br/index.php?ano=2023&opcao=opt_06&subopcao=subopt_02\n",
            "Acesso OK para url na iteração nº 27\n",
            "\n",
            "Funcao captura_dados 2023\n",
            "Classes de cada tabela:\n",
            "['tb_layout']\n",
            "['tb_base']\n",
            "['tb_layout']\n",
            "['tb_layout', 'no_print']\n",
            "['tb_base']\n",
            "['tb_base', 'tb_link', 'no_print']\n",
            "['tb_base']\n",
            "['tb_base', 'tb_footer']\n",
            "[['África do Sul', '2', '44'], ['Alemanha', '162', '1.542'], ['Angola', '56.242', '315.073'], ['Antigua e Barbuda', '24', '100'], ['Antilhas Holandesas', '-', '-'], ['Argentina', '8.593', '73.239'], ['Aruba', '-', '-'], ['Australia', '10', '6'], ['Bahamas', '65', '268'], ['Bangladesh', '-', '-'], ['Barbados', '32', '219'], ['Belgica', '-', '-'], ['Benin', '3', '19'], ['Bermudas', '-', '-'], ['Bolívia', '11.410', '34.481'], ['Bósnia-Herzegovina', '-', '-'], ['Bulgaria', '-', '-'], ['Cabo Verde', '-', '-'], ['Camarões', '-', '-'], ['Canada', '4.068', '15.427'], ['Catar', '-', '-'], ['Cayman, Ilhas', '5', '33'], ['Chile', '3.532', '15.875'], ['China', '16.285', '47.822'], ['Chipre', '188', '707'], ['Cingapura', '-', '-'], ['Colombia', '1.926', '6.898'], ['Coreia do Sul, Republica da', '74', '222'], ['Costa Rica', '-', '-'], ['Cuba', '-', '-'], ['Curaçao', '1.288', '6.539'], ['Dinamarca', '2.790', '26.359'], ['Dominica', '-', '-'], ['El Salvador', '-', '-'], ['Emirados Arabes Unidos', '126', '622'], ['Equador', '540', '2.000'], ['Espanha', '45', '853'], ['Estados Unidos', '255.198', '729.055'], ['Estonia', '-', '-'], ['Falkland (Malvinas)', '-', '-'], ['Filipinas', '20', '111'], ['Filânldia', '180', '1.770'], ['França', '-', '-'], ['Gana', '4.719', '35.778'], ['Gibraltar', '-', '-'], ['Granada', '-', '-'], ['Grécia', '59', '320'], ['Guatemala', '-', '-'], ['Guiana', '14.084', '71.163'], ['Guiné Equatorial', '-', '-'], ['Guiné-Bissau', '-', '-'], ['Haiti', '3.969', '10.646'], ['Honduras', '-', '-'], ['Hong Kong', '1.355', '5.169'], ['Hungria', '-', '-'], ['Ilha de Man', '-', '-'], ['Índia', '-', '-'], ['Iraque', '-', '-'], ['Irlanda', '-', '-'], ['Islândia', '-', '-'], ['Itália', '1.460', '19.905'], ['Japão', '2.311', '9.708'], ['Jordânia', '-', '-'], ['Letônia', '-', '-'], ['Líbano', '-', '-'], ['Libéria', '973', '3.358'], ['Luxemburgo', '18', '305'], ['Maldivas', '4.577', '20.204'], ['Malta', '1.472', '44.498'], ['Marshall, Ilhas', '1.375', '4.886'], ['Montenegro', '-', '-'], ['México', '-', '-'], ['Nicarágua', '-', '-'], ['Nigéria', '-', '-'], ['Noruega', '-', '-'], ['Nova Zelândia', '303', '4.231'], ['Países Baixos (Holanda)', '3', '49'], ['Panamá', '7.936', '43.115'], ['Paraguai', '64.662', '192.975'], ['Peru', '108', '756'], ['Polônia', '126', '659'], ['Porto Rico', '-', '-'], ['Portugal', '2.191', '38.616'], ['Quênia', '-', '-'], ['Reino Unido', '16.057', '86.879'], ['Republica Dominicana', '-', '-'], ['Republica Tcheca', '-', '-'], ['Rússia', '-', '-'], ['Serra Leoa', '271', '1.287'], ['Singapura', '209', '599'], ['Suécia', '-', '-'], ['Suíça', '444', '4.474'], ['Suriname', '-', '-'], ['Tailândia', '7', '43'], ['Taiwan (Formosa)', '1.099', '3.664'], ['Tcheca, República', '167', '1.236'], ['Trinidade e Tobago', '-', '-'], ['Turquia', '6.930', '26.566'], ['Uruguai', '2.812', '14.352'], ['Vanuatu', '-', '-'], ['Venezuela', '-', '-'], ['Vietnã', '-', '-'], ['Outros(1)', '-', '-']]\n",
            "<class 'list'>\n",
            "Url Ano  2023 http://vitibrasil.cnpuv.embrapa.br/index.php?ano=2023&opcao=opt_06&subopcao=subopt_03\n",
            "Acesso OK para url na iteração nº 28\n",
            "\n",
            "Funcao captura_dados 2023\n",
            "Classes de cada tabela:\n",
            "['tb_layout']\n",
            "['tb_base']\n",
            "['tb_layout']\n",
            "['tb_layout', 'no_print']\n",
            "['tb_base']\n",
            "['tb_base', 'tb_link', 'no_print']\n",
            "['tb_base']\n",
            "['tb_base', 'tb_footer']\n",
            "[['Africa do Sul', '30', '136'], ['Alemanha, República Democrática', '1.701.887', '4.101.648'], ['Angola', '-', '-'], ['Antígua e Barbuda', '260', '1.173'], ['Arabia Saudita', '2.234', '19.382'], ['Argélia', '-', '-'], ['Argentina', '2.265.038', '5.234.176'], ['Áustria', '20', '41'], ['Bahamas', '4.871', '19.408'], ['Bahrein', '-', '-'], ['Bangladesh', '141', '402'], ['Barbados', '237', '874'], ['Barein', '622', '2.602'], ['Bélgica', '254', '1.056'], ['Belize', '52', '125'], ['Bermudas', '194', '821'], ['Bolívia', '261.712', '151.770'], ['Bósnia', '-', '-'], ['Brasil', '170', '470'], ['Bulgária', '-', '-'], ['Burquina Faso', '-', '-'], ['Cabo Verde', '-', '-'], ['Camarões', '10', '66'], ['Camores', '-', '-'], ['Canadá', '1.175.975', '3.667.725'], ['Catar', '2.210', '6.616'], ['Cayman, Ilhas', '278', '1.007'], ['Chile', '10', '38'], ['China', '1.210', '5.500'], ['Chipre', '1.633', '5.538'], ['Cingapura', '-', '-'], ['Cocos (Keeling), Ilhas', '-', '-'], ['Cook, Ilhas', '116', '839'], ['Colômbia', '-', '-'], ['Congo', '-', '-'], ['Coreia do Norte', '-', '-'], ['Coreia do Sul', '366', '1.376'], ['Costa do Marfim', '-', '-'], ['Coveite', '3.725', '22.339'], ['Croácia', '5', '12'], ['Curaçao', '-', '-'], ['Dinamarca', '115.901', '264.623'], ['Djibuti', '-', '-'], ['Egito', '50', '153'], ['Emirados Árabes Unidos', '177.198', '672.359'], ['Eslovênia', '-', '-'], ['Espanha', '4.177.500', '7.656.023'], ['Estados Unidos', '19.529.155', '58.146.305'], ['Falkland (Ilhas Malvinas)', '-', '-'], ['Faroé, Ilhas', '-', '-'], ['Filipinas', '171', '530'], ['Finlândia', '1', '21'], ['França', '428', '2.040'], ['Gabão', '83', '316'], ['Gana', '-', '-'], ['Georgia', '-', '-'], ['Gibraltar', '114', '472'], ['Grécia', '3.036', '9.131'], ['Guadalupe', '-', '-'], ['Guiana', '4.999', '17.249'], ['Guiana Francesa', '705', '3.500'], ['Guine Equatorial', '-', '-'], ['Honduras', '-', '-'], ['Hong Kong', '27.717', '136.684'], ['Ilha de Man', '311', '1.282'], ['Ilhas Virgens', '-', '-'], ['Índia', '510', '1.781'], ['Indonésia', '-', '-'], ['Irã', '-', '-'], ['Irlanda', '629.421', '1.732.292'], ['Islândia', '-', '-'], ['Itália', '29.040', '96.548'], ['Japão', '393', '1.413'], ['Jérsei', '-', '-'], ['Jordânia', '-', '-'], ['Letônia', '44', '92'], ['Líbano', '147', '514'], ['Libéria', '13.876', '55.239'], ['Líbia', '5', '32'], ['Lituânia', '46.041', '117.335'], ['Luxemburgo', '24', '123'], ['Macedônia', '10', '42'], ['Malásia', '74', '335'], ['Malta', '5.282', '21.528'], ['Marrocos', '-', '-'], ['Marshall, Ilhas', '14.858', '59.743'], ['Martinica', '5', '37'], ['Mauricio', '-', '-'], ['Mauritânia', '-', '-'], ['Mexico', '30', '78'], ['Mônaco', '-', '-'], ['Mongólia', '-', '-'], ['Montenegro', '-', '-'], ['Nigéria', '-', '-'], ['Noruega', '464.880', '1.524.584'], ['Omã', '-', '-'], ['Países Baixos', '26.855.736', '62.427.840'], ['Palau', '115', '307'], ['Panamá', '15.613', '58.337'], ['Paquistão', '-', '-'], ['Paraguai', '-', '-'], ['Pitcairn', '17', '68'], ['Polônia', '66', '124'], ['Porto Rico', '-', '-'], ['Portugal', '14.824', '45.165'], ['Quirguistão', '20', '121'], ['Reino Unido', '15.358.148', '37.383.249'], ['Republica Dominicana', '-', '-'], ['Romênia', '-', '-'], ['Rússia,  Federação da', '-', '-'], ['Samoa Americana', '-', '-'], ['São Cristóvão e Névis', '36', '152'], ['São Tomé e Príncipe', '-', '-'], ['São Vicente e Granadinas', '20', '83'], ['Serra Leoa', '2', '5'], ['Senegal', '-', '-'], ['Singapura', '15.407', '100.508'], ['Sri Lanka', '20', '30'], ['Suécia', '-', '-'], ['Suíça', '3.632', '53.106'], ['Suriname', '-', '-'], ['Tailândia', '794', '3.413'], ['Taiwan', '83', '293'], ['Tanzânia', '19', '76'], ['Togo', '-', '-'], ['Trindade e Tobago', '-', '-'], ['Turcas e Caicos, ilhas', '-', '-'], ['Turquia', '334', '976'], ['Tuvalu', '-', '-'], ['Uruguai', '281.594', '547.227'], ['Vanuatu', '31', '88'], ['Venezuela', '-', '-'], ['Vietnã', '63', '177'], ['Provisão de Navios e Aeronaves', '-', '-']]\n",
            "<class 'list'>\n",
            "Url Ano  2023 http://vitibrasil.cnpuv.embrapa.br/index.php?ano=2023&opcao=opt_06&subopcao=subopt_04\n",
            "Acesso OK para url na iteração nº 31\n",
            "\n",
            "Funcao captura_dados 2023\n",
            "Classes de cada tabela:\n",
            "['tb_layout']\n",
            "['tb_base']\n",
            "['tb_layout']\n",
            "['tb_layout', 'no_print']\n",
            "['tb_base']\n",
            "['tb_base', 'tb_link', 'no_print']\n",
            "['tb_base']\n",
            "['tb_base', 'tb_footer']\n",
            "[['África do Sul', '-', '-'], ['Alemanha, República Democrática da', '33', '39'], ['Angola', '55.683', '68.724'], ['Antígua e Barbuda', '-', '-'], ['Antilhas Holandesas', '-', '-'], ['Arábia Saudita', '-', '-'], ['Argélia', '-', '-'], ['Argentina', '795', '3.808'], ['Aruba', '-', '-'], ['Austrália', '9.228', '20.692'], ['Áustria', '-', '-'], ['Bahamas', '463', '674'], ['Bangladesh', '302', '352'], ['Barbados', '187', '545'], ['Barein', '-', '-'], ['Bélgica', '27', '67'], ['Belize', '-', '-'], ['Benin', '-', '-'], ['Bermudas', '-', '-'], ['Birmânia', '-', '-'], ['Bolívia', '22.246', '31.793'], ['Cabo Verde', '90', '170'], ['Camarões', '-', '-'], ['Canadá', '29.504', '72.670'], ['Catar', '1', '8'], ['Cayman, Ilhas', '-', '-'], ['Chile', '3', '6'], ['China', '737.608', '1.525.476'], ['Chipre', '156', '40'], ['Cingapura', '-', '-'], ['Colômbia', '-', '-'], ['Congo', '-', '-'], ['Coreia do Sul', '46.146', '129.150'], ['Costa do Marfim', '-', '-'], ['Costa Rica', '-', '-'], ['Coveite', '-', '-'], ['Cuba', '-', '-'], ['Curaçao', '336', '1.122'], ['Dinamarca', '200', '299'], ['Dominica, Ilha de', '-', '-'], ['El Salvador', '-', '-'], ['Emirados Árabes Unidos', '1.163', '1.213'], ['Equador', '21.876', '30.774'], ['Espanha', '44.592', '25.002'], ['Estados Unidos', '866.096', '2.125.880'], ['Falkland (Malvinas)', '-', '-'], ['Filipinas', '655', '748'], ['Finlândia', '-', '-'], ['França', '192', '263'], ['Gana', '103.346', '175.088'], ['Gibraltar', '-', '-'], ['Granada', '-', '-'], ['Grécia', '412', '438'], ['Guatemala', '-', '-'], ['Guiana', '114', '300'], ['Guiana Francesa', '300', '90'], ['Guiné Bissau', '-', '-'], ['Guine Equatorial', '-', '-'], ['Haiti', '890', '569'], ['Hong Kong', '9.236', '14.083'], ['Hungria', '-', '-'], ['Ilha de Man', '144', '202'], ['India', '-', '-'], ['Indonésia', '2', '3'], ['Irã', '-', '-'], ['Iraque', '-', '-'], ['Irlanda', '930', '2.373'], ['Israel', '-', '-'], ['Itália', '1.655', '1.952'], ['Iugoslâvia', '-', '-'], ['Jamaica', '-', '-'], ['Japão', '2.583.100', '6.376.989'], ['Líbano', '16.800', '25.432'], ['Libéria', '1.231', '1.737'], ['Líbia', '74.988', '95.805'], ['Luxemburgo', '-', '-'], ['Malásia', '-', '-'], ['Malta', '1.575', '2.007'], ['Marshall, Ilhas', '2.936', '4.694'], ['Mauritânia', '-', '-'], ['México', '-', '-'], ['Moçambique', '-', '-'], ['Mônaco', '-', '-'], ['Montenegro', '-', '-'], ['Namíbia', '-', '-'], ['Nigéria', '12.390', '16.966'], ['Noruega', '12', '19'], ['Nova Caledônia', '-', '-'], ['Nova Zelândia', '6.984', '17.987'], ['Países Baixos', '36', '55'], ['Panamá', '11.770', '14.148'], ['Paquistão', '-', '-'], ['Paraguai', '319.087', '366.822'], ['Peru', '34.700', '73.918'], ['Polônia', '-', '-'], ['Porto Rico', '-', '-'], ['Portugal', '79.062', '88.208'], ['Quênia', '-', '-'], ['Reino Unido', '5.290', '13.668'], ['República Centro Africana', '-', '-'], ['República Dominicana', '25.440', '78.719'], ['República Federativa da Rússia', '-', '-'], ['Rússia', '-', '-'], ['São Tomé e Príncipe', '-', '-'], ['Senegal', '-', '-'], ['Serra Leoa', '-', '-'], ['Singapura', '1.749', '3.686'], ['Sri Lanka', '-', '-'], ['Suécia', '-', '-'], ['Suíça', '-', '-'], ['Suriname', '8.480', '23.701'], ['Tailândia', '24', '37'], ['Taiwan (Formosa)', '54.173', '132.752'], ['Tanzânia', '-', '-'], ['Tcheca, República', '-', '-'], ['Togo', '-', '-'], ['Toquelau', '24', '39'], ['Trinidade e Tobago', '-', '-'], ['Turquia', '230', '455'], ['Uruguai', '-', '-'], ['Vanuatu', '-', '-'], ['Venezuela', '30.206', '47.287']]\n",
            "<class 'list'>\n"
          ]
        }
      ],
      "source": [
        "#from re import sub\n",
        "# Loop por segmentos e anos\n",
        "\n",
        "lista_anos = []\n",
        "\n",
        "for nome_segmento in lista_segmentos:\n",
        "  print(nome_segmento) #<---- mudar nome\n",
        "\n",
        "  #dc_embrapa[nome_segmento]['categorias'] = lista_categorias\n",
        "  #dc_embrapa[nome_segmento]['subopcao'] = lista_links_categorias\n",
        "\n",
        "  #validação\n",
        "  print(\"subopcao:\", dc_embrapa[segmento]['subopcao'])\n",
        "  print(\"categorias:\", dc_embrapa[segmento]['categorias'])\n",
        "  #print(\"categorias:\", dc_embrapa[segmento]['categorias'].index(nome_segmento))\n",
        "  print(\"subgmento-informado:\", subsegmento)\n",
        "\n",
        "  if ano != None:\n",
        "    if ano in dc_embrapa[nome_segmento]['anos']: #ano informado existe na lista de anos do dicionrio?\n",
        "      #print(\"Ano informado existe na lista\")\n",
        "      lista_anos = [ano]\n",
        "    else:\n",
        "      print(\"Ano informado NÃO existe na lista\")\n",
        "  else:\n",
        "    print(\"Será processado todos os anos disponiveis no dicionario para o segmento\", segmento)\n",
        "    lista_anos = dc_embrapa[nome_segmento]['anos']\n",
        "  print(\"Lista de anos\", lista_anos)\n",
        "\n",
        "  #result_dict_subpag  = listar_subgmentos(segmento)\n",
        "  #print(\"subsegmentos\", result_dict_subpag)\n",
        "\n",
        "  if subsegmento == None and len(result_dict_subpag ) == 0:\n",
        "    print(\"Não há subsegmentos para o segmento\", segmento)\n",
        "\n",
        "  for year in lista_anos:\n",
        "\n",
        "        #print(\"ver parada\", result_dict_subpag)\n",
        "        #print(\"len\", len(result_dict_subpag ))\n",
        "        if len(result_dict_subpag ) == 0:\n",
        "\n",
        "          #print(\"entrei aqui1\")\n",
        "          url2 = f\"http://vitibrasil.cnpuv.embrapa.br/index.php?ano={year}&opcao={opcao}\"\n",
        "          descricao = None\n",
        "          print(\"url2 com ano fixo\", url2)\n",
        "          data2 = processa_request(url2)\n",
        "          print(\"qual valor do subsegmento\", subsegmento)\n",
        "          if subsegmento == []:\n",
        "             subsegmento = ['None']\n",
        "             for descricao in subsegmento:\n",
        "                print(\"xxxx\", descricao)\n",
        "                lista_temp = []\n",
        "                lista_temp.append(descricao)\n",
        "                descricao = lista_temp\n",
        "                df_temp = captura_dados(year)\n",
        "                #df_final = pd.concat([df_final, zz])\n",
        "                #estrategia para evitar abend no erro aqui\n",
        "                #descricao = lista_temp\n",
        "                #print(\"teste\", teste)\n",
        "                #df_final.append(zz)\n",
        "                df_final = pd.concat([df_final, df_temp])\n",
        "                subsegmento = [] #sem essa jogada, se perde no for acima\n",
        "\n",
        "        else:\n",
        "          #print(\"entrei aqui2\")\n",
        "          for descricao in subsegmento:\n",
        "            #print(\"entrei aqui3\")\n",
        "            #print(\"xxxx\", descricao)\n",
        "            indice_categoria = dc_embrapa[segmento]['categorias'].index(descricao)\n",
        "            indice = dc_embrapa[segmento]['subopcao'][indice_categoria]\n",
        "            #print(\"indice\", indice)\n",
        "            url2 = f\"http://vitibrasil.cnpuv.embrapa.br/index.php?ano={year}&opcao={opcao}&subopcao={indice}\"\n",
        "            print(\"Url Ano \", ano, url2)\n",
        "            data2 = processa_request(url2)\n",
        "            #df_temp = captura_dados\n",
        "            lista_temp = []\n",
        "            lista_temp.append(descricao)\n",
        "            #estrategia para evitar abend no erro aqui\n",
        "            descricao = lista_temp\n",
        "            df_temp = captura_dados(year)\n",
        "            #print(\"zz\", zz)\n",
        "            #print(\"teste\", teste)\n",
        "            df_final = pd.concat([df_final, df_temp])\n",
        "            #df_final.append(zz)\n"
      ]
    },
    {
      "cell_type": "code",
      "source": [
        "df_final"
      ],
      "metadata": {
        "id": "jXucZfOpOqbY",
        "colab": {
          "base_uri": "https://localhost:8080/",
          "height": 424
        },
        "outputId": "397bbfe1-f8f9-49cf-917f-5d0fb7be1a57"
      },
      "id": "jXucZfOpOqbY",
      "execution_count": 154,
      "outputs": [
        {
          "output_type": "execute_result",
          "data": {
            "text/plain": [
              "                              Países Quantidade (Kg) Valor (US$) LinhaNegocio  \\\n",
              "0                        Afeganistão               -           -   Exportação   \n",
              "1                      África do Sul             117         698   Exportação   \n",
              "2    Alemanha, República Democrática           4.806      31.853   Exportação   \n",
              "3                             Angola               -           -   Exportação   \n",
              "4                           Anguilla               -           -   Exportação   \n",
              "..                               ...             ...         ...          ...   \n",
              "117               Trinidade e Tobago               -           -   Exportação   \n",
              "118                          Turquia             230         455   Exportação   \n",
              "119                          Uruguai               -           -   Exportação   \n",
              "120                          Vanuatu               -           -   Exportação   \n",
              "121                        Venezuela          30.206      47.287   Exportação   \n",
              "\n",
              "    SubLinhaNegocio   Ano  \n",
              "0    Vinhos de mesa  2023  \n",
              "1    Vinhos de mesa  2023  \n",
              "2    Vinhos de mesa  2023  \n",
              "3    Vinhos de mesa  2023  \n",
              "4    Vinhos de mesa  2023  \n",
              "..              ...   ...  \n",
              "117     Suco de uva  2023  \n",
              "118     Suco de uva  2023  \n",
              "119     Suco de uva  2023  \n",
              "120     Suco de uva  2023  \n",
              "121     Suco de uva  2023  \n",
              "\n",
              "[496 rows x 6 columns]"
            ],
            "text/html": [
              "\n",
              "  <div id=\"df-d6be64d2-4451-4879-89e8-dd21fb2e1818\" class=\"colab-df-container\">\n",
              "    <div>\n",
              "<style scoped>\n",
              "    .dataframe tbody tr th:only-of-type {\n",
              "        vertical-align: middle;\n",
              "    }\n",
              "\n",
              "    .dataframe tbody tr th {\n",
              "        vertical-align: top;\n",
              "    }\n",
              "\n",
              "    .dataframe thead tr th {\n",
              "        text-align: left;\n",
              "    }\n",
              "</style>\n",
              "<table border=\"1\" class=\"dataframe\">\n",
              "  <thead>\n",
              "    <tr>\n",
              "      <th></th>\n",
              "      <th>Países</th>\n",
              "      <th>Quantidade (Kg)</th>\n",
              "      <th>Valor (US$)</th>\n",
              "      <th>LinhaNegocio</th>\n",
              "      <th>SubLinhaNegocio</th>\n",
              "      <th>Ano</th>\n",
              "    </tr>\n",
              "  </thead>\n",
              "  <tbody>\n",
              "    <tr>\n",
              "      <th>0</th>\n",
              "      <td>Afeganistão</td>\n",
              "      <td>-</td>\n",
              "      <td>-</td>\n",
              "      <td>Exportação</td>\n",
              "      <td>Vinhos de mesa</td>\n",
              "      <td>2023</td>\n",
              "    </tr>\n",
              "    <tr>\n",
              "      <th>1</th>\n",
              "      <td>África do Sul</td>\n",
              "      <td>117</td>\n",
              "      <td>698</td>\n",
              "      <td>Exportação</td>\n",
              "      <td>Vinhos de mesa</td>\n",
              "      <td>2023</td>\n",
              "    </tr>\n",
              "    <tr>\n",
              "      <th>2</th>\n",
              "      <td>Alemanha, República Democrática</td>\n",
              "      <td>4.806</td>\n",
              "      <td>31.853</td>\n",
              "      <td>Exportação</td>\n",
              "      <td>Vinhos de mesa</td>\n",
              "      <td>2023</td>\n",
              "    </tr>\n",
              "    <tr>\n",
              "      <th>3</th>\n",
              "      <td>Angola</td>\n",
              "      <td>-</td>\n",
              "      <td>-</td>\n",
              "      <td>Exportação</td>\n",
              "      <td>Vinhos de mesa</td>\n",
              "      <td>2023</td>\n",
              "    </tr>\n",
              "    <tr>\n",
              "      <th>4</th>\n",
              "      <td>Anguilla</td>\n",
              "      <td>-</td>\n",
              "      <td>-</td>\n",
              "      <td>Exportação</td>\n",
              "      <td>Vinhos de mesa</td>\n",
              "      <td>2023</td>\n",
              "    </tr>\n",
              "    <tr>\n",
              "      <th>...</th>\n",
              "      <td>...</td>\n",
              "      <td>...</td>\n",
              "      <td>...</td>\n",
              "      <td>...</td>\n",
              "      <td>...</td>\n",
              "      <td>...</td>\n",
              "    </tr>\n",
              "    <tr>\n",
              "      <th>117</th>\n",
              "      <td>Trinidade e Tobago</td>\n",
              "      <td>-</td>\n",
              "      <td>-</td>\n",
              "      <td>Exportação</td>\n",
              "      <td>Suco de uva</td>\n",
              "      <td>2023</td>\n",
              "    </tr>\n",
              "    <tr>\n",
              "      <th>118</th>\n",
              "      <td>Turquia</td>\n",
              "      <td>230</td>\n",
              "      <td>455</td>\n",
              "      <td>Exportação</td>\n",
              "      <td>Suco de uva</td>\n",
              "      <td>2023</td>\n",
              "    </tr>\n",
              "    <tr>\n",
              "      <th>119</th>\n",
              "      <td>Uruguai</td>\n",
              "      <td>-</td>\n",
              "      <td>-</td>\n",
              "      <td>Exportação</td>\n",
              "      <td>Suco de uva</td>\n",
              "      <td>2023</td>\n",
              "    </tr>\n",
              "    <tr>\n",
              "      <th>120</th>\n",
              "      <td>Vanuatu</td>\n",
              "      <td>-</td>\n",
              "      <td>-</td>\n",
              "      <td>Exportação</td>\n",
              "      <td>Suco de uva</td>\n",
              "      <td>2023</td>\n",
              "    </tr>\n",
              "    <tr>\n",
              "      <th>121</th>\n",
              "      <td>Venezuela</td>\n",
              "      <td>30.206</td>\n",
              "      <td>47.287</td>\n",
              "      <td>Exportação</td>\n",
              "      <td>Suco de uva</td>\n",
              "      <td>2023</td>\n",
              "    </tr>\n",
              "  </tbody>\n",
              "</table>\n",
              "<p>496 rows × 6 columns</p>\n",
              "</div>\n",
              "    <div class=\"colab-df-buttons\">\n",
              "\n",
              "  <div class=\"colab-df-container\">\n",
              "    <button class=\"colab-df-convert\" onclick=\"convertToInteractive('df-d6be64d2-4451-4879-89e8-dd21fb2e1818')\"\n",
              "            title=\"Convert this dataframe to an interactive table.\"\n",
              "            style=\"display:none;\">\n",
              "\n",
              "  <svg xmlns=\"http://www.w3.org/2000/svg\" height=\"24px\" viewBox=\"0 -960 960 960\">\n",
              "    <path d=\"M120-120v-720h720v720H120Zm60-500h600v-160H180v160Zm220 220h160v-160H400v160Zm0 220h160v-160H400v160ZM180-400h160v-160H180v160Zm440 0h160v-160H620v160ZM180-180h160v-160H180v160Zm440 0h160v-160H620v160Z\"/>\n",
              "  </svg>\n",
              "    </button>\n",
              "\n",
              "  <style>\n",
              "    .colab-df-container {\n",
              "      display:flex;\n",
              "      gap: 12px;\n",
              "    }\n",
              "\n",
              "    .colab-df-convert {\n",
              "      background-color: #E8F0FE;\n",
              "      border: none;\n",
              "      border-radius: 50%;\n",
              "      cursor: pointer;\n",
              "      display: none;\n",
              "      fill: #1967D2;\n",
              "      height: 32px;\n",
              "      padding: 0 0 0 0;\n",
              "      width: 32px;\n",
              "    }\n",
              "\n",
              "    .colab-df-convert:hover {\n",
              "      background-color: #E2EBFA;\n",
              "      box-shadow: 0px 1px 2px rgba(60, 64, 67, 0.3), 0px 1px 3px 1px rgba(60, 64, 67, 0.15);\n",
              "      fill: #174EA6;\n",
              "    }\n",
              "\n",
              "    .colab-df-buttons div {\n",
              "      margin-bottom: 4px;\n",
              "    }\n",
              "\n",
              "    [theme=dark] .colab-df-convert {\n",
              "      background-color: #3B4455;\n",
              "      fill: #D2E3FC;\n",
              "    }\n",
              "\n",
              "    [theme=dark] .colab-df-convert:hover {\n",
              "      background-color: #434B5C;\n",
              "      box-shadow: 0px 1px 3px 1px rgba(0, 0, 0, 0.15);\n",
              "      filter: drop-shadow(0px 1px 2px rgba(0, 0, 0, 0.3));\n",
              "      fill: #FFFFFF;\n",
              "    }\n",
              "  </style>\n",
              "\n",
              "    <script>\n",
              "      const buttonEl =\n",
              "        document.querySelector('#df-d6be64d2-4451-4879-89e8-dd21fb2e1818 button.colab-df-convert');\n",
              "      buttonEl.style.display =\n",
              "        google.colab.kernel.accessAllowed ? 'block' : 'none';\n",
              "\n",
              "      async function convertToInteractive(key) {\n",
              "        const element = document.querySelector('#df-d6be64d2-4451-4879-89e8-dd21fb2e1818');\n",
              "        const dataTable =\n",
              "          await google.colab.kernel.invokeFunction('convertToInteractive',\n",
              "                                                    [key], {});\n",
              "        if (!dataTable) return;\n",
              "\n",
              "        const docLinkHtml = 'Like what you see? Visit the ' +\n",
              "          '<a target=\"_blank\" href=https://colab.research.google.com/notebooks/data_table.ipynb>data table notebook</a>'\n",
              "          + ' to learn more about interactive tables.';\n",
              "        element.innerHTML = '';\n",
              "        dataTable['output_type'] = 'display_data';\n",
              "        await google.colab.output.renderOutput(dataTable, element);\n",
              "        const docLink = document.createElement('div');\n",
              "        docLink.innerHTML = docLinkHtml;\n",
              "        element.appendChild(docLink);\n",
              "      }\n",
              "    </script>\n",
              "  </div>\n",
              "\n",
              "\n",
              "<div id=\"df-163af38e-84fb-435b-b941-3fd50a982f19\">\n",
              "  <button class=\"colab-df-quickchart\" onclick=\"quickchart('df-163af38e-84fb-435b-b941-3fd50a982f19')\"\n",
              "            title=\"Suggest charts\"\n",
              "            style=\"display:none;\">\n",
              "\n",
              "<svg xmlns=\"http://www.w3.org/2000/svg\" height=\"24px\"viewBox=\"0 0 24 24\"\n",
              "     width=\"24px\">\n",
              "    <g>\n",
              "        <path d=\"M19 3H5c-1.1 0-2 .9-2 2v14c0 1.1.9 2 2 2h14c1.1 0 2-.9 2-2V5c0-1.1-.9-2-2-2zM9 17H7v-7h2v7zm4 0h-2V7h2v10zm4 0h-2v-4h2v4z\"/>\n",
              "    </g>\n",
              "</svg>\n",
              "  </button>\n",
              "\n",
              "<style>\n",
              "  .colab-df-quickchart {\n",
              "      --bg-color: #E8F0FE;\n",
              "      --fill-color: #1967D2;\n",
              "      --hover-bg-color: #E2EBFA;\n",
              "      --hover-fill-color: #174EA6;\n",
              "      --disabled-fill-color: #AAA;\n",
              "      --disabled-bg-color: #DDD;\n",
              "  }\n",
              "\n",
              "  [theme=dark] .colab-df-quickchart {\n",
              "      --bg-color: #3B4455;\n",
              "      --fill-color: #D2E3FC;\n",
              "      --hover-bg-color: #434B5C;\n",
              "      --hover-fill-color: #FFFFFF;\n",
              "      --disabled-bg-color: #3B4455;\n",
              "      --disabled-fill-color: #666;\n",
              "  }\n",
              "\n",
              "  .colab-df-quickchart {\n",
              "    background-color: var(--bg-color);\n",
              "    border: none;\n",
              "    border-radius: 50%;\n",
              "    cursor: pointer;\n",
              "    display: none;\n",
              "    fill: var(--fill-color);\n",
              "    height: 32px;\n",
              "    padding: 0;\n",
              "    width: 32px;\n",
              "  }\n",
              "\n",
              "  .colab-df-quickchart:hover {\n",
              "    background-color: var(--hover-bg-color);\n",
              "    box-shadow: 0 1px 2px rgba(60, 64, 67, 0.3), 0 1px 3px 1px rgba(60, 64, 67, 0.15);\n",
              "    fill: var(--button-hover-fill-color);\n",
              "  }\n",
              "\n",
              "  .colab-df-quickchart-complete:disabled,\n",
              "  .colab-df-quickchart-complete:disabled:hover {\n",
              "    background-color: var(--disabled-bg-color);\n",
              "    fill: var(--disabled-fill-color);\n",
              "    box-shadow: none;\n",
              "  }\n",
              "\n",
              "  .colab-df-spinner {\n",
              "    border: 2px solid var(--fill-color);\n",
              "    border-color: transparent;\n",
              "    border-bottom-color: var(--fill-color);\n",
              "    animation:\n",
              "      spin 1s steps(1) infinite;\n",
              "  }\n",
              "\n",
              "  @keyframes spin {\n",
              "    0% {\n",
              "      border-color: transparent;\n",
              "      border-bottom-color: var(--fill-color);\n",
              "      border-left-color: var(--fill-color);\n",
              "    }\n",
              "    20% {\n",
              "      border-color: transparent;\n",
              "      border-left-color: var(--fill-color);\n",
              "      border-top-color: var(--fill-color);\n",
              "    }\n",
              "    30% {\n",
              "      border-color: transparent;\n",
              "      border-left-color: var(--fill-color);\n",
              "      border-top-color: var(--fill-color);\n",
              "      border-right-color: var(--fill-color);\n",
              "    }\n",
              "    40% {\n",
              "      border-color: transparent;\n",
              "      border-right-color: var(--fill-color);\n",
              "      border-top-color: var(--fill-color);\n",
              "    }\n",
              "    60% {\n",
              "      border-color: transparent;\n",
              "      border-right-color: var(--fill-color);\n",
              "    }\n",
              "    80% {\n",
              "      border-color: transparent;\n",
              "      border-right-color: var(--fill-color);\n",
              "      border-bottom-color: var(--fill-color);\n",
              "    }\n",
              "    90% {\n",
              "      border-color: transparent;\n",
              "      border-bottom-color: var(--fill-color);\n",
              "    }\n",
              "  }\n",
              "</style>\n",
              "\n",
              "  <script>\n",
              "    async function quickchart(key) {\n",
              "      const quickchartButtonEl =\n",
              "        document.querySelector('#' + key + ' button');\n",
              "      quickchartButtonEl.disabled = true;  // To prevent multiple clicks.\n",
              "      quickchartButtonEl.classList.add('colab-df-spinner');\n",
              "      try {\n",
              "        const charts = await google.colab.kernel.invokeFunction(\n",
              "            'suggestCharts', [key], {});\n",
              "      } catch (error) {\n",
              "        console.error('Error during call to suggestCharts:', error);\n",
              "      }\n",
              "      quickchartButtonEl.classList.remove('colab-df-spinner');\n",
              "      quickchartButtonEl.classList.add('colab-df-quickchart-complete');\n",
              "    }\n",
              "    (() => {\n",
              "      let quickchartButtonEl =\n",
              "        document.querySelector('#df-163af38e-84fb-435b-b941-3fd50a982f19 button');\n",
              "      quickchartButtonEl.style.display =\n",
              "        google.colab.kernel.accessAllowed ? 'block' : 'none';\n",
              "    })();\n",
              "  </script>\n",
              "</div>\n",
              "\n",
              "  <div id=\"id_699f87d0-e366-47c8-a32a-fddc24f8a102\">\n",
              "    <style>\n",
              "      .colab-df-generate {\n",
              "        background-color: #E8F0FE;\n",
              "        border: none;\n",
              "        border-radius: 50%;\n",
              "        cursor: pointer;\n",
              "        display: none;\n",
              "        fill: #1967D2;\n",
              "        height: 32px;\n",
              "        padding: 0 0 0 0;\n",
              "        width: 32px;\n",
              "      }\n",
              "\n",
              "      .colab-df-generate:hover {\n",
              "        background-color: #E2EBFA;\n",
              "        box-shadow: 0px 1px 2px rgba(60, 64, 67, 0.3), 0px 1px 3px 1px rgba(60, 64, 67, 0.15);\n",
              "        fill: #174EA6;\n",
              "      }\n",
              "\n",
              "      [theme=dark] .colab-df-generate {\n",
              "        background-color: #3B4455;\n",
              "        fill: #D2E3FC;\n",
              "      }\n",
              "\n",
              "      [theme=dark] .colab-df-generate:hover {\n",
              "        background-color: #434B5C;\n",
              "        box-shadow: 0px 1px 3px 1px rgba(0, 0, 0, 0.15);\n",
              "        filter: drop-shadow(0px 1px 2px rgba(0, 0, 0, 0.3));\n",
              "        fill: #FFFFFF;\n",
              "      }\n",
              "    </style>\n",
              "    <button class=\"colab-df-generate\" onclick=\"generateWithVariable('df_final')\"\n",
              "            title=\"Generate code using this dataframe.\"\n",
              "            style=\"display:none;\">\n",
              "\n",
              "  <svg xmlns=\"http://www.w3.org/2000/svg\" height=\"24px\"viewBox=\"0 0 24 24\"\n",
              "       width=\"24px\">\n",
              "    <path d=\"M7,19H8.4L18.45,9,17,7.55,7,17.6ZM5,21V16.75L18.45,3.32a2,2,0,0,1,2.83,0l1.4,1.43a1.91,1.91,0,0,1,.58,1.4,1.91,1.91,0,0,1-.58,1.4L9.25,21ZM18.45,9,17,7.55Zm-12,3A5.31,5.31,0,0,0,4.9,8.1,5.31,5.31,0,0,0,1,6.5,5.31,5.31,0,0,0,4.9,4.9,5.31,5.31,0,0,0,6.5,1,5.31,5.31,0,0,0,8.1,4.9,5.31,5.31,0,0,0,12,6.5,5.46,5.46,0,0,0,6.5,12Z\"/>\n",
              "  </svg>\n",
              "    </button>\n",
              "    <script>\n",
              "      (() => {\n",
              "      const buttonEl =\n",
              "        document.querySelector('#id_699f87d0-e366-47c8-a32a-fddc24f8a102 button.colab-df-generate');\n",
              "      buttonEl.style.display =\n",
              "        google.colab.kernel.accessAllowed ? 'block' : 'none';\n",
              "\n",
              "      buttonEl.onclick = () => {\n",
              "        google.colab.notebook.generateWithVariable('df_final');\n",
              "      }\n",
              "      })();\n",
              "    </script>\n",
              "  </div>\n",
              "\n",
              "    </div>\n",
              "  </div>\n"
            ],
            "application/vnd.google.colaboratory.intrinsic+json": {
              "type": "dataframe",
              "variable_name": "df_final",
              "summary": "{\n  \"name\": \"df_final\",\n  \"rows\": 496,\n  \"fields\": [\n    {\n      \"column\": [\n        \"Pa\\u00edses\"\n      ],\n      \"properties\": {\n        \"dtype\": \"category\",\n        \"num_unique_values\": 206,\n        \"samples\": [\n          \"Barein\",\n          \"Aruba\",\n          \"Guin\\u00e9 Bissau\"\n        ],\n        \"semantic_type\": \"\",\n        \"description\": \"\"\n      }\n    },\n    {\n      \"column\": [\n        \"Quantidade (Kg)\"\n      ],\n      \"properties\": {\n        \"dtype\": \"category\",\n        \"num_unique_values\": 233,\n        \"samples\": [\n          \"3.532\",\n          \"74.988\",\n          \"230\"\n        ],\n        \"semantic_type\": \"\",\n        \"description\": \"\"\n      }\n    },\n    {\n      \"column\": [\n        \"Valor (US$)\"\n      ],\n      \"properties\": {\n        \"dtype\": \"string\",\n        \"num_unique_values\": 257,\n        \"samples\": [\n          \"17.249\",\n          \"62.427.840\",\n          \"73.239\"\n        ],\n        \"semantic_type\": \"\",\n        \"description\": \"\"\n      }\n    },\n    {\n      \"column\": [\n        \"LinhaNegocio\"\n      ],\n      \"properties\": {\n        \"dtype\": \"category\",\n        \"num_unique_values\": 1,\n        \"samples\": [\n          \"Exporta\\u00e7\\u00e3o\"\n        ],\n        \"semantic_type\": \"\",\n        \"description\": \"\"\n      }\n    },\n    {\n      \"column\": [\n        \"SubLinhaNegocio\"\n      ],\n      \"properties\": {\n        \"dtype\": \"category\",\n        \"num_unique_values\": 4,\n        \"samples\": [\n          \"Espumantes\"\n        ],\n        \"semantic_type\": \"\",\n        \"description\": \"\"\n      }\n    },\n    {\n      \"column\": [\n        \"Ano\"\n      ],\n      \"properties\": {\n        \"dtype\": \"number\",\n        \"std\": 0,\n        \"min\": 2023,\n        \"max\": 2023,\n        \"num_unique_values\": 1,\n        \"samples\": [\n          2023\n        ],\n        \"semantic_type\": \"\",\n        \"description\": \"\"\n      }\n    }\n  ]\n}"
            }
          },
          "metadata": {},
          "execution_count": 154
        }
      ]
    },
    {
      "cell_type": "code",
      "source": [],
      "metadata": {
        "id": "ATj7MGArbMbQ"
      },
      "id": "ATj7MGArbMbQ",
      "execution_count": 154,
      "outputs": []
    }
  ],
  "metadata": {
    "colab": {
      "provenance": []
    },
    "kernelspec": {
      "display_name": "Python 3 (ipykernel)",
      "language": "python",
      "name": "python3"
    },
    "language_info": {
      "codemirror_mode": {
        "name": "ipython",
        "version": 3
      },
      "file_extension": ".py",
      "mimetype": "text/x-python",
      "name": "python",
      "nbconvert_exporter": "python",
      "pygments_lexer": "ipython3",
      "version": "3.11.3"
    }
  },
  "nbformat": 4,
  "nbformat_minor": 5
}