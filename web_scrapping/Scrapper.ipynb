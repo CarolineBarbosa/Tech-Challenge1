{
 "cells": [
  {
   "cell_type": "code",
   "execution_count": 20,
   "id": "207505dd-4033-4c40-88d0-046ce1c6ce60",
   "metadata": {},
   "outputs": [
    {
     "ename": "",
     "evalue": "",
     "output_type": "error",
     "traceback": [
      "\u001b[1;31mRunning cells with 'mle_env (Python 3.9.20)' requires the ipykernel package.\n",
      "\u001b[1;31mRun the following command to install 'ipykernel' into the Python environment. \n",
      "\u001b[1;31mCommand: 'conda install -n mle_env ipykernel --update-deps --force-reinstall'"
     ]
    }
   ],
   "source": [
    "ano = 1994\n",
    "url = f\"http://vitibrasil.cnpuv.embrapa.br/index.php?ano={ano}&opcao=opt_02\""
   ]
  },
  {
   "cell_type": "code",
   "execution_count": 21,
   "id": "3c5530bc-c256-4fe1-8c83-09112a50bb7c",
   "metadata": {},
   "outputs": [
    {
     "ename": "",
     "evalue": "",
     "output_type": "error",
     "traceback": [
      "\u001b[1;31mRunning cells with 'mle_env (Python 3.9.20)' requires the ipykernel package.\n",
      "\u001b[1;31mRun the following command to install 'ipykernel' into the Python environment. \n",
      "\u001b[1;31mCommand: 'conda install -n mle_env ipykernel --update-deps --force-reinstall'"
     ]
    }
   ],
   "source": [
    "import pandas as pd"
   ]
  },
  {
   "cell_type": "code",
   "execution_count": 22,
   "id": "8edfe4da-a6e5-49bc-be61-8f832411b33b",
   "metadata": {},
   "outputs": [
    {
     "ename": "",
     "evalue": "",
     "output_type": "error",
     "traceback": [
      "\u001b[1;31mRunning cells with 'mle_env (Python 3.9.20)' requires the ipykernel package.\n",
      "\u001b[1;31mRun the following command to install 'ipykernel' into the Python environment. \n",
      "\u001b[1;31mCommand: 'conda install -n mle_env ipykernel --update-deps --force-reinstall'"
     ]
    }
   ],
   "source": [
    "df= pd.read_html(url, header=0)"
   ]
  },
  {
   "cell_type": "code",
   "execution_count": null,
   "id": "9290da96",
   "metadata": {},
   "outputs": [
    {
     "ename": "",
     "evalue": "",
     "output_type": "error",
     "traceback": [
      "\u001b[1;31mRunning cells with 'mle_env (Python 3.9.20)' requires the ipykernel package.\n",
      "\u001b[1;31mRun the following command to install 'ipykernel' into the Python environment. \n",
      "\u001b[1;31mCommand: 'conda install -n mle_env ipykernel --update-deps --force-reinstall'"
     ]
    }
   ],
   "source": [
    "df.to_excel(\"output.xslx\",index=False)"
   ]
  },
  {
   "cell_type": "code",
   "execution_count": 26,
   "id": "d12733b4-3cb5-4bfb-8304-0a81ec20e64f",
   "metadata": {},
   "outputs": [
    {
     "ename": "SyntaxError",
     "evalue": "f-string: empty expression not allowed (985030856.py, line 10)",
     "output_type": "error",
     "traceback": [
      "\u001b[1;36m  Cell \u001b[1;32mIn[26], line 10\u001b[1;36m\u001b[0m\n\u001b[1;33m    'subopcao':[f'subopt_0{}'],\u001b[0m\n\u001b[1;37m                             ^\u001b[0m\n\u001b[1;31mSyntaxError\u001b[0m\u001b[1;31m:\u001b[0m f-string: empty expression not allowed\n"
     ]
    }
   ],
   "source": [
    "dc_embrapa = {\n",
    "    'Produção':{\n",
    "        'opcao':'opt_02',\n",
    "        'subopcao':None,\n",
    "        'anos': [y for y in range(1970,2024)],\n",
    "        'table_index':3\n",
    "    },\n",
    "        'Processamento':{\n",
    "        'opcao':'opt_03',\n",
    "        'subopcao':None,\n",
    "        'anos': [y for y in range(1970,2024)],\n",
    "        'table_index':3\n",
    "    },\n",
    "        'Comercialização':{\n",
    "        'opcao':'opt_04',\n",
    "        'subopcao':[f'subopt_0{x}' for x in range(0,4) ],\n",
    "        'anos': [y for y in range(1970,2024)],\n",
    "        'table_index':3\n",
    "    },\n",
    "        'Importação':{\n",
    "        'opcao':'opt_05',\n",
    "        'subopcao':[f'subopt_0{x}' for x in range(0,4) ],\n",
    "        'anos': [y for y in range(1970,2024)],\n",
    "        'table_index':3\n",
    "    },\n",
    "        'Exportação':{\n",
    "        'opcao':'opt_06',\n",
    "        'subopcao':[f'subopt_0{x}' for x in range(0,4) ],\n",
    "        'anos': [y for y in range(1970,2024)],\n",
    "        'table_index':3\n",
    "    }\n",
    "}"
   ]
  },
  {
   "cell_type": "code",
   "execution_count": null,
   "id": "f0db6496-458a-49f6-9ef6-5ffe20e84f58",
   "metadata": {},
   "outputs": [],
   "source": []
  },
  {
   "cell_type": "code",
   "execution_count": null,
   "id": "70f6d038-1500-4156-ade3-6156cc993bd0",
   "metadata": {},
   "outputs": [],
   "source": []
  },
  {
   "cell_type": "code",
   "execution_count": null,
   "id": "6cec030a-0b75-4def-9c4d-f167410a1b8f",
   "metadata": {},
   "outputs": [],
   "source": []
  }
 ],
 "metadata": {
  "kernelspec": {
   "display_name": "mle_env",
   "language": "python",
   "name": "python3"
  },
  "language_info": {
   "codemirror_mode": {
    "name": "ipython",
    "version": 3
   },
   "file_extension": ".py",
   "mimetype": "text/x-python",
   "name": "python",
   "nbconvert_exporter": "python",
   "pygments_lexer": "ipython3",
   "version": "3.9.20"
  }
 },
 "nbformat": 4,
 "nbformat_minor": 5
}
